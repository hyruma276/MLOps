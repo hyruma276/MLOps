{
 "cells": [
  {
   "cell_type": "code",
   "execution_count": 7,
   "metadata": {},
   "outputs": [],
   "source": [
    "import numpy as np\n",
    "import pandas as pd\n",
    "import pickle\n",
    "from sklearn.neighbors import NearestNeighbors"
   ]
  },
  {
   "cell_type": "code",
   "execution_count": 8,
   "metadata": {},
   "outputs": [],
   "source": [
    "movie_matrix = pd.read_csv(\"C:/Users/Victor/Documents/A_Projet_MLOP/Template_MLOps_movie_recommandation-master/data/processed/movie_matrix.csv\")\n",
    "\n",
    "model = NearestNeighbors(n_neighbors=20, algorithm=\"ball_tree\").fit(\n",
    "        movie_matrix.drop(\"movieId\", axis=1)\n",
    "    )"
   ]
  },
  {
   "cell_type": "code",
   "execution_count": 9,
   "metadata": {},
   "outputs": [],
   "source": [
    "def make_predictions(users_id, model,  user_matrix_filename):\n",
    "    # Read user_matrix\n",
    "    users = pd.read_csv(user_matrix_filename)\n",
    "\n",
    "    # Filter with the list of users_id\n",
    "    users = users[users[\"userId\"].isin(users_id)]\n",
    "\n",
    "    # Delete userId\n",
    "    users = users.drop(\"userId\", axis=1)\n",
    "\n",
    "    # Calculate nearest neighbors\n",
    "    _, indices = model.kneighbors(users)\n",
    "\n",
    "    # Select 10 random numbers from each row\n",
    "    # \n",
    "    selection = np.array(\n",
    "        [np.random.choice(row, size=20, replace=False) for row in indices]\n",
    "    )\n",
    "\n",
    "    return selection"
   ]
  },
  {
   "cell_type": "code",
   "execution_count": 10,
   "metadata": {},
   "outputs": [],
   "source": [
    "def apk(actual, predicted, k=20):\n",
    "    \"\"\"Average Precision at K\"\"\"\n",
    "    if not actual:\n",
    "        return 0.0\n",
    "\n",
    "    predicted = predicted[:k]\n",
    "    score = 0.0\n",
    "    num_hits = 0.0\n",
    "\n",
    "    for i, p in enumerate(predicted):\n",
    "        if p in actual and p not in predicted[:i]:\n",
    "            num_hits += 1.0\n",
    "            score += num_hits / (i + 1.0)\n",
    "\n",
    "    return score / min(len(actual), k)\n",
    "    \n",
    "def mapk(actual, predicted, k = 20):\n",
    "    \"\"\"Mean Average Precision at K\"\"\"\n",
    "    return np.mean([apk(a,p,k) for a,p in zip(actual, predicted)])\n",
    "\n",
    "def recall_at_k(actual, predicted, k=20):\n",
    "    \"\"\"Recall at K\"\"\"\n",
    "    recalls = []\n",
    "    \n",
    "    for act, pred in zip(actual, predicted):\n",
    "        actual_genres_set = set([genre for sublist in act[:k] for genre in sublist])\n",
    "        predicted_genres_set = set([genre for sublist in pred[:k] for genre in sublist])\n",
    "        \n",
    "        if len(actual_genres_set) == 0:  # Avoid division by zero\n",
    "            recalls.append(0)\n",
    "        else:\n",
    "            recalls.append(len(actual_genres_set & predicted_genres_set) / len(actual_genres_set))\n",
    "    \n",
    "    return np.mean(recalls)"
   ]
  },
  {
   "cell_type": "code",
   "execution_count": 11,
   "metadata": {},
   "outputs": [],
   "source": [
    "from collections import Counter\n",
    "\n",
    "genres = pd.read_csv(\"C:/Users/Victor/Documents/A_Projet_MLOP/Template_MLOps_movie_recommandation-master/data/raw/movies.csv\")\n",
    "\n",
    "def extract_movie_genres(movie_id):\n",
    "    movie_genres = genres[genres[\"movieId\"] == movie_id][\"genres\"].str.split(\"|\").tolist()\n",
    "    return movie_genres\n",
    "\n",
    "def movie_genres(movies,k = 5):\n",
    "    G = []\n",
    "    for movie in movies:\n",
    "        genres_list = Counter()\n",
    "        for Id in movie:\n",
    "            list = extract_movie_genres(Id)[0]\n",
    "            genres_list.update(list)\n",
    "        most_like_genres = genres_list.most_common(k)\n",
    "        G.append([genre for genre, _ in most_like_genres])\n",
    "    return G\n",
    "\n",
    "def predicted_genres(movies):\n",
    "    G = []\n",
    "    for movie in movies:\n",
    "        L = []\n",
    "        for Id in movie:\n",
    "            for val in extract_movie_genres(Id)[0]:\n",
    "                L.append(val)\n",
    "        G.append(L)\n",
    "    return G\n"
   ]
  },
  {
   "cell_type": "code",
   "execution_count": 12,
   "metadata": {},
   "outputs": [
    {
     "name": "stdout",
     "output_type": "stream",
     "text": [
      "MAP@10: 0.5128\n",
      "Recall@10: 0.9024\n"
     ]
    }
   ],
   "source": [
    "user_matrix = pd.read_csv(\"C:/Users/Victor/Documents/A_Projet_MLOP/Template_MLOps_movie_recommandation-master/data/processed/user_matrix.csv\")\n",
    "movie_matrix = pd.read_csv(\"C:/Users/Victor/Documents/A_Projet_MLOP/Template_MLOps_movie_recommandation-master/data/processed/movie_matrix.csv\")\n",
    "\n",
    "test_users = np.random.choice(user_matrix[\"userId\"].unique(), size=20, replace=False)\n",
    "\n",
    "predictions = make_predictions(\n",
    "    test_users, model , \"C:/Users/Victor/Documents/A_Projet_MLOP/Template_MLOps_movie_recommandation-master/data/processed/user_matrix.csv\"\n",
    ") \n",
    "\n",
    "ratings = pd.read_csv(\"C:/Users/Victor/Documents/A_Projet_MLOP/Template_MLOps_movie_recommandation-master/data/raw/ratings.csv\")\n",
    "test_user_ratings = ratings[(ratings[\"userId\"].isin(test_users)) & (ratings['rating'] > 3.5)]\n",
    "\n",
    "actual_movies = [\n",
    "    test_user_ratings[test_user_ratings[\"userId\"] == user][\"movieId\"].tolist()\n",
    "    for user in test_users\n",
    "]\n",
    "\n",
    "actual_genres = movie_genres(actual_movies)\n",
    "recommended_genres = predicted_genres(predictions)\n",
    "\n",
    "mapk_score = mapk(actual_genres, recommended_genres, k=10)\n",
    "recall_score = recall_at_k(actual_genres, recommended_genres, k=10)\n",
    "\n",
    "metrics = {\"MAP@20\": mapk_score, \"Recall@20\": recall_score}\n",
    "\n",
    "\n",
    "print(f\"MAP@10: {mapk_score:.4f}\")\n",
    "print(f\"Recall@10: {recall_score:.4f}\")\n"
   ]
  },
  {
   "cell_type": "code",
   "execution_count": 13,
   "metadata": {},
   "outputs": [
    {
     "name": "stdout",
     "output_type": "stream",
     "text": [
      "Example actual: ['Comedy', 'Drama', 'Romance', 'Crime', 'Mystery']\n",
      "Example predicted: ['Children', 'Comedy', 'Comedy', 'Romance', 'Comedy', 'Action', 'Comedy', 'Crime', 'Drama', 'Thriller', 'Documentary', 'Action', 'Thriller', 'Action', 'Adventure', 'Comedy', 'Crime', 'Adventure', 'Children', 'Action', 'Crime', 'Drama', 'Adventure', 'Animation', 'Children', 'Drama', 'Thriller', 'Crime', 'Drama', 'Adventure', 'Children', 'Fantasy', 'Comedy', 'Romance', 'Documentary', 'Drama', 'Romance', 'Comedy', 'Action', 'Sci-Fi', 'Thriller', 'Drama', 'Romance', 'Comedy']\n",
      "apk: 0.3638888888888889\n"
     ]
    }
   ],
   "source": [
    "print(\"Example actual:\", actual_genres[0])\n",
    "print(\"Example predicted:\", recommended_genres[0])\n",
    "print(\"apk:\", apk(actual_genres[0], recommended_genres[0], k=20))"
   ]
  },
  {
   "cell_type": "code",
   "execution_count": 14,
   "metadata": {},
   "outputs": [
    {
     "data": {
      "text/plain": [
       "array([[ 54,  39, 119, 145, 128,  89, 112, 146,  42,  13,  61,  30,  56,\n",
       "        122, 136, 140, 141,  66,  25, 125],\n",
       "       [ 42,  30, 112, 145,  56,  54, 119,  61,  13, 125,  89, 146,  39,\n",
       "         66,  25, 128, 141, 140, 122, 136],\n",
       "       [145,  61, 146,  30, 125,  66,  39,  13, 141, 136,  89, 119,  42,\n",
       "         25,  54, 140,  56, 128, 122, 112],\n",
       "       [128, 125, 146, 112, 140, 145, 136,  25,  66,  13,  54,  42,  61,\n",
       "         56, 122, 119,  39,  30,  89, 141],\n",
       "       [125, 145, 146,  39, 128,  61, 140,  89, 122,  56, 136, 112, 119,\n",
       "         30,  13,  25,  54, 141,  42,  66],\n",
       "       [125, 122, 146,  39, 145,  30, 119,  54,  42,  61, 112,  13, 140,\n",
       "        128,  56,  25, 136, 141,  89,  66],\n",
       "       [ 42, 122,  13,  66,  30, 136,  54, 145, 112, 140, 125,  56,  89,\n",
       "        128, 146, 119,  25,  61,  39, 141],\n",
       "       [ 89, 140, 145,  13, 122,  30,  54,  39, 125,  56, 119,  42,  61,\n",
       "         25,  66, 146, 136, 112, 128, 141],\n",
       "       [122, 136,  30, 119,  56, 125,  42, 141, 112,  39,  66, 145,  61,\n",
       "         54,  13, 140, 146, 128,  89,  25],\n",
       "       [145, 112,  66,  56,  39,  54,  89, 146,  25,  42, 119, 141, 128,\n",
       "        140, 125, 136,  13,  30,  61, 122],\n",
       "       [125, 140, 141,  54,  42,  13, 145,  25, 136,  89,  56, 122,  39,\n",
       "         30, 146,  66, 128, 112,  61, 119],\n",
       "       [122, 140, 125, 146, 145,  39,  13,  89, 141,  56,  54, 128,  66,\n",
       "         25, 112, 136,  61,  42,  30, 119],\n",
       "       [142, 172, 102,  17,   4, 174, 100, 113, 133,  18,  64,  87, 231,\n",
       "         68, 123, 252, 139, 214, 117, 201],\n",
       "       [ 42,  54, 140, 145,  25,  39, 112, 128,  89, 122, 125,  30,  56,\n",
       "        119, 136,  66, 146,  13, 141,  61],\n",
       "       [ 66, 141, 146, 145,  42,  54, 119,  56, 125, 112, 122,  13, 140,\n",
       "        128,  89,  39,  30,  61,  25, 136],\n",
       "       [122, 119, 141,  42, 146,  89,  25,  54,  13,  56, 128, 125, 140,\n",
       "        112, 136,  30,  39,  66, 145,  61],\n",
       "       [214,  64, 133,  17,  87, 142, 172,  68, 231, 174, 100,   4, 102,\n",
       "        117,  18, 252, 123, 201, 139, 113],\n",
       "       [ 66,  42,  56,  89, 145, 112, 122,  61, 125,  39, 119,  30,  54,\n",
       "        128, 141, 140, 136,  25,  13, 146],\n",
       "       [122,  61,  42,  56,  66,  30,  25,  39, 112, 141, 128,  13,  89,\n",
       "         54, 140, 145, 136, 119, 125, 146],\n",
       "       [146,  42,  66, 119,  56, 112, 122,  39, 136,  89,  61, 128, 140,\n",
       "         25, 141,  13, 125,  54, 145,  30]], dtype=int64)"
      ]
     },
     "execution_count": 14,
     "metadata": {},
     "output_type": "execute_result"
    }
   ],
   "source": [
    "predictions"
   ]
  },
  {
   "cell_type": "code",
   "execution_count": 15,
   "metadata": {},
   "outputs": [
    {
     "name": "stdout",
     "output_type": "stream",
     "text": [
      "['Children', 'Comedy', 'Comedy', 'Romance', 'Comedy', 'Action', 'Comedy', 'Crime', 'Drama', 'Thriller', 'Documentary', 'Action', 'Thriller', 'Action', 'Adventure', 'Comedy', 'Crime', 'Adventure', 'Children', 'Action', 'Crime', 'Drama', 'Adventure', 'Animation', 'Children', 'Drama', 'Thriller', 'Crime', 'Drama', 'Adventure', 'Children', 'Fantasy', 'Comedy', 'Romance', 'Documentary', 'Drama', 'Romance', 'Comedy', 'Action', 'Sci-Fi', 'Thriller', 'Drama', 'Romance', 'Comedy']\n"
     ]
    }
   ],
   "source": [
    "print(predicted_genres(predictions)[0])"
   ]
  },
  {
   "cell_type": "code",
   "execution_count": 16,
   "metadata": {},
   "outputs": [
    {
     "name": "stdout",
     "output_type": "stream",
     "text": [
      "[['Children', 'Comedy', 'Comedy', 'Romance', 'Comedy', 'Action', 'Comedy', 'Crime', 'Drama', 'Thriller', 'Documentary', 'Action', 'Thriller', 'Action', 'Adventure', 'Comedy', 'Crime', 'Adventure', 'Children', 'Action', 'Crime', 'Drama', 'Adventure', 'Animation', 'Children', 'Drama', 'Thriller', 'Crime', 'Drama', 'Adventure', 'Children', 'Fantasy', 'Comedy', 'Romance', 'Documentary', 'Drama', 'Romance', 'Comedy', 'Action', 'Sci-Fi', 'Thriller', 'Drama', 'Romance', 'Comedy'], ['Action', 'Crime', 'Drama', 'Crime', 'Drama', 'Action', 'Adventure', 'Comedy', 'Crime', 'Action', 'Comedy', 'Crime', 'Drama', 'Thriller', 'Adventure', 'Children', 'Fantasy', 'Children', 'Comedy', 'Comedy', 'Drama', 'Thriller', 'Adventure', 'Animation', 'Children', 'Comedy', 'Action', 'Thriller', 'Adventure', 'Children', 'Comedy', 'Romance', 'Action', 'Sci-Fi', 'Thriller', 'Drama', 'Romance', 'Documentary', 'Comedy', 'Drama', 'Romance', 'Comedy', 'Romance', 'Documentary'], ['Action', 'Comedy', 'Crime', 'Drama', 'Thriller', 'Drama', 'Thriller', 'Adventure', 'Children', 'Crime', 'Drama', 'Comedy', 'Action', 'Sci-Fi', 'Thriller', 'Comedy', 'Romance', 'Adventure', 'Animation', 'Children', 'Comedy', 'Documentary', 'Action', 'Thriller', 'Comedy', 'Action', 'Crime', 'Drama', 'Drama', 'Romance', 'Children', 'Comedy', 'Drama', 'Romance', 'Adventure', 'Children', 'Fantasy', 'Documentary', 'Comedy', 'Romance', 'Action', 'Adventure', 'Comedy', 'Crime'], ['Documentary', 'Comedy', 'Adventure', 'Children', 'Action', 'Adventure', 'Comedy', 'Crime', 'Drama', 'Romance', 'Action', 'Comedy', 'Crime', 'Drama', 'Thriller', 'Documentary', 'Drama', 'Romance', 'Action', 'Sci-Fi', 'Thriller', 'Adventure', 'Animation', 'Children', 'Children', 'Comedy', 'Action', 'Crime', 'Drama', 'Drama', 'Thriller', 'Adventure', 'Children', 'Fantasy', 'Comedy', 'Romance', 'Comedy', 'Comedy', 'Romance', 'Crime', 'Drama', 'Action', 'Thriller', 'Comedy'], ['Comedy', 'Action', 'Comedy', 'Crime', 'Drama', 'Thriller', 'Adventure', 'Children', 'Comedy', 'Romance', 'Documentary', 'Drama', 'Thriller', 'Drama', 'Romance', 'Action', 'Thriller', 'Comedy', 'Romance', 'Adventure', 'Children', 'Fantasy', 'Documentary', 'Action', 'Adventure', 'Comedy', 'Crime', 'Comedy', 'Crime', 'Drama', 'Adventure', 'Animation', 'Children', 'Drama', 'Romance', 'Children', 'Comedy', 'Comedy', 'Action', 'Crime', 'Drama', 'Action', 'Sci-Fi', 'Thriller'], ['Comedy', 'Comedy', 'Romance', 'Adventure', 'Children', 'Comedy', 'Romance', 'Action', 'Comedy', 'Crime', 'Drama', 'Thriller', 'Crime', 'Drama', 'Comedy', 'Children', 'Comedy', 'Action', 'Crime', 'Drama', 'Drama', 'Thriller', 'Action', 'Adventure', 'Comedy', 'Crime', 'Adventure', 'Animation', 'Children', 'Drama', 'Romance', 'Documentary', 'Adventure', 'Children', 'Fantasy', 'Drama', 'Romance', 'Documentary', 'Comedy', 'Action', 'Thriller', 'Action', 'Sci-Fi', 'Thriller'], ['Action', 'Crime', 'Drama', 'Comedy', 'Romance', 'Adventure', 'Animation', 'Children', 'Action', 'Sci-Fi', 'Thriller', 'Crime', 'Drama', 'Documentary', 'Children', 'Comedy', 'Action', 'Comedy', 'Crime', 'Drama', 'Thriller', 'Action', 'Adventure', 'Comedy', 'Crime', 'Drama', 'Romance', 'Comedy', 'Adventure', 'Children', 'Fantasy', 'Action', 'Thriller', 'Documentary', 'Adventure', 'Children', 'Comedy', 'Drama', 'Romance', 'Drama', 'Thriller', 'Comedy', 'Romance', 'Comedy'], ['Action', 'Thriller', 'Drama', 'Romance', 'Action', 'Comedy', 'Crime', 'Drama', 'Thriller', 'Adventure', 'Animation', 'Children', 'Comedy', 'Romance', 'Crime', 'Drama', 'Children', 'Comedy', 'Comedy', 'Romance', 'Comedy', 'Adventure', 'Children', 'Fantasy', 'Comedy', 'Action', 'Crime', 'Drama', 'Drama', 'Thriller', 'Drama', 'Romance', 'Action', 'Sci-Fi', 'Thriller', 'Adventure', 'Children', 'Documentary', 'Action', 'Adventure', 'Comedy', 'Crime', 'Documentary', 'Comedy'], ['Comedy', 'Romance', 'Documentary', 'Crime', 'Drama', 'Comedy', 'Adventure', 'Children', 'Fantasy', 'Comedy', 'Action', 'Crime', 'Drama', 'Comedy', 'Action', 'Adventure', 'Comedy', 'Crime', 'Comedy', 'Romance', 'Action', 'Sci-Fi', 'Thriller', 'Action', 'Comedy', 'Crime', 'Drama', 'Thriller', 'Drama', 'Thriller', 'Children', 'Comedy', 'Adventure', 'Animation', 'Children', 'Drama', 'Romance', 'Adventure', 'Children', 'Documentary', 'Action', 'Thriller', 'Drama', 'Romance'], ['Action', 'Comedy', 'Crime', 'Drama', 'Thriller', 'Action', 'Adventure', 'Comedy', 'Crime', 'Action', 'Sci-Fi', 'Thriller', 'Adventure', 'Children', 'Fantasy', 'Comedy', 'Romance', 'Children', 'Comedy', 'Action', 'Thriller', 'Adventure', 'Children', 'Drama', 'Romance', 'Action', 'Crime', 'Drama', 'Comedy', 'Comedy', 'Documentary', 'Drama', 'Romance', 'Comedy', 'Documentary', 'Adventure', 'Animation', 'Children', 'Crime', 'Drama', 'Drama', 'Thriller', 'Comedy', 'Romance'], ['Comedy', 'Drama', 'Romance', 'Comedy', 'Children', 'Comedy', 'Action', 'Crime', 'Drama', 'Adventure', 'Animation', 'Children', 'Action', 'Comedy', 'Crime', 'Drama', 'Thriller', 'Drama', 'Romance', 'Documentary', 'Action', 'Thriller', 'Adventure', 'Children', 'Fantasy', 'Comedy', 'Romance', 'Comedy', 'Romance', 'Crime', 'Drama', 'Adventure', 'Children', 'Action', 'Sci-Fi', 'Thriller', 'Documentary', 'Action', 'Adventure', 'Comedy', 'Crime', 'Drama', 'Thriller', 'Comedy'], ['Comedy', 'Romance', 'Drama', 'Romance', 'Comedy', 'Adventure', 'Children', 'Action', 'Comedy', 'Crime', 'Drama', 'Thriller', 'Comedy', 'Romance', 'Adventure', 'Animation', 'Children', 'Action', 'Thriller', 'Comedy', 'Adventure', 'Children', 'Fantasy', 'Children', 'Comedy', 'Documentary', 'Action', 'Sci-Fi', 'Thriller', 'Drama', 'Romance', 'Action', 'Adventure', 'Comedy', 'Crime', 'Documentary', 'Drama', 'Thriller', 'Action', 'Crime', 'Drama', 'Crime', 'Drama', 'Comedy'], ['Drama', 'Action', 'Sci-Fi', 'Thriller', 'Comedy', 'Drama', 'Romance', 'Comedy', 'Drama', 'Romance', 'Comedy', 'Drama', 'Thriller', 'Drama', 'Mystery', 'Comedy', 'Drama', 'Comedy', 'Comedy', 'Romance', 'Children', 'Comedy', 'Adventure', 'Comedy', 'Comedy', 'Romance', 'Drama', 'Mystery', 'Romance', 'Comedy', 'Romance', 'Action', 'Drama', 'Drama', 'War', 'Crime', 'Drama', 'Drama', 'Fantasy'], ['Action', 'Crime', 'Drama', 'Children', 'Comedy', 'Drama', 'Romance', 'Action', 'Comedy', 'Crime', 'Drama', 'Thriller', 'Drama', 'Romance', 'Comedy', 'Romance', 'Action', 'Adventure', 'Comedy', 'Crime', 'Documentary', 'Action', 'Thriller', 'Comedy', 'Romance', 'Comedy', 'Crime', 'Drama', 'Adventure', 'Children', 'Fantasy', 'Comedy', 'Documentary', 'Action', 'Sci-Fi', 'Thriller', 'Adventure', 'Children', 'Adventure', 'Animation', 'Children', 'Comedy', 'Drama', 'Thriller'], ['Action', 'Sci-Fi', 'Thriller', 'Comedy', 'Adventure', 'Children', 'Action', 'Comedy', 'Crime', 'Drama', 'Thriller', 'Action', 'Crime', 'Drama', 'Children', 'Comedy', 'Comedy', 'Adventure', 'Children', 'Fantasy', 'Comedy', 'Action', 'Adventure', 'Comedy', 'Crime', 'Comedy', 'Romance', 'Adventure', 'Animation', 'Children', 'Drama', 'Romance', 'Documentary', 'Action', 'Thriller', 'Comedy', 'Romance', 'Crime', 'Drama', 'Drama', 'Thriller', 'Drama', 'Romance', 'Documentary'], ['Comedy', 'Romance', 'Comedy', 'Comedy', 'Action', 'Crime', 'Drama', 'Adventure', 'Children', 'Action', 'Thriller', 'Drama', 'Romance', 'Children', 'Comedy', 'Adventure', 'Animation', 'Children', 'Adventure', 'Children', 'Fantasy', 'Documentary', 'Comedy', 'Drama', 'Romance', 'Action', 'Adventure', 'Comedy', 'Crime', 'Documentary', 'Crime', 'Drama', 'Comedy', 'Romance', 'Action', 'Sci-Fi', 'Thriller', 'Action', 'Comedy', 'Crime', 'Drama', 'Thriller', 'Drama', 'Thriller'], ['Drama', 'War', 'Comedy', 'Romance', 'Comedy', 'Drama', 'Drama', 'Romance', 'Children', 'Comedy', 'Drama', 'Action', 'Sci-Fi', 'Thriller', 'Comedy', 'Romance', 'Adventure', 'Comedy', 'Comedy', 'Drama', 'Thriller', 'Comedy', 'Drama', 'Romance', 'Comedy', 'Crime', 'Drama', 'Comedy', 'Comedy', 'Romance', 'Drama', 'Mystery', 'Romance', 'Drama', 'Fantasy', 'Action', 'Drama', 'Drama', 'Mystery'], ['Action', 'Sci-Fi', 'Thriller', 'Action', 'Crime', 'Drama', 'Adventure', 'Children', 'Fantasy', 'Action', 'Thriller', 'Action', 'Comedy', 'Crime', 'Drama', 'Thriller', 'Action', 'Adventure', 'Comedy', 'Crime', 'Comedy', 'Romance', 'Drama', 'Thriller', 'Comedy', 'Comedy', 'Romance', 'Comedy', 'Crime', 'Drama', 'Children', 'Comedy', 'Documentary', 'Comedy', 'Drama', 'Romance', 'Documentary', 'Drama', 'Romance', 'Adventure', 'Animation', 'Children', 'Adventure', 'Children'], ['Comedy', 'Romance', 'Drama', 'Thriller', 'Action', 'Crime', 'Drama', 'Adventure', 'Children', 'Fantasy', 'Action', 'Sci-Fi', 'Thriller', 'Crime', 'Drama', 'Drama', 'Romance', 'Comedy', 'Romance', 'Action', 'Adventure', 'Comedy', 'Crime', 'Comedy', 'Documentary', 'Adventure', 'Animation', 'Children', 'Action', 'Thriller', 'Children', 'Comedy', 'Drama', 'Romance', 'Action', 'Comedy', 'Crime', 'Drama', 'Thriller', 'Documentary', 'Comedy', 'Comedy', 'Adventure', 'Children'], ['Adventure', 'Children', 'Action', 'Crime', 'Drama', 'Action', 'Sci-Fi', 'Thriller', 'Comedy', 'Adventure', 'Children', 'Fantasy', 'Action', 'Adventure', 'Comedy', 'Crime', 'Comedy', 'Romance', 'Comedy', 'Romance', 'Documentary', 'Action', 'Thriller', 'Drama', 'Thriller', 'Documentary', 'Drama', 'Romance', 'Drama', 'Romance', 'Comedy', 'Adventure', 'Animation', 'Children', 'Comedy', 'Children', 'Comedy', 'Action', 'Comedy', 'Crime', 'Drama', 'Thriller', 'Crime', 'Drama']]\n"
     ]
    }
   ],
   "source": [
    "G = []\n",
    "for movie in predictions:\n",
    "    L = []\n",
    "    for Id in movie:\n",
    "        for val in extract_movie_genres(Id)[0]:\n",
    "            L.append(val)\n",
    "    G.append(L)\n",
    "print(G)"
   ]
  },
  {
   "cell_type": "code",
   "execution_count": 17,
   "metadata": {},
   "outputs": [
    {
     "data": {
      "text/plain": [
       "array([[ 54,  39, 119, 145, 128,  89, 112, 146,  42,  13,  61,  30,  56,\n",
       "        122, 136, 140, 141,  66,  25, 125],\n",
       "       [ 42,  30, 112, 145,  56,  54, 119,  61,  13, 125,  89, 146,  39,\n",
       "         66,  25, 128, 141, 140, 122, 136],\n",
       "       [145,  61, 146,  30, 125,  66,  39,  13, 141, 136,  89, 119,  42,\n",
       "         25,  54, 140,  56, 128, 122, 112],\n",
       "       [128, 125, 146, 112, 140, 145, 136,  25,  66,  13,  54,  42,  61,\n",
       "         56, 122, 119,  39,  30,  89, 141],\n",
       "       [125, 145, 146,  39, 128,  61, 140,  89, 122,  56, 136, 112, 119,\n",
       "         30,  13,  25,  54, 141,  42,  66],\n",
       "       [125, 122, 146,  39, 145,  30, 119,  54,  42,  61, 112,  13, 140,\n",
       "        128,  56,  25, 136, 141,  89,  66],\n",
       "       [ 42, 122,  13,  66,  30, 136,  54, 145, 112, 140, 125,  56,  89,\n",
       "        128, 146, 119,  25,  61,  39, 141],\n",
       "       [ 89, 140, 145,  13, 122,  30,  54,  39, 125,  56, 119,  42,  61,\n",
       "         25,  66, 146, 136, 112, 128, 141],\n",
       "       [122, 136,  30, 119,  56, 125,  42, 141, 112,  39,  66, 145,  61,\n",
       "         54,  13, 140, 146, 128,  89,  25],\n",
       "       [145, 112,  66,  56,  39,  54,  89, 146,  25,  42, 119, 141, 128,\n",
       "        140, 125, 136,  13,  30,  61, 122],\n",
       "       [125, 140, 141,  54,  42,  13, 145,  25, 136,  89,  56, 122,  39,\n",
       "         30, 146,  66, 128, 112,  61, 119],\n",
       "       [122, 140, 125, 146, 145,  39,  13,  89, 141,  56,  54, 128,  66,\n",
       "         25, 112, 136,  61,  42,  30, 119],\n",
       "       [142, 172, 102,  17,   4, 174, 100, 113, 133,  18,  64,  87, 231,\n",
       "         68, 123, 252, 139, 214, 117, 201],\n",
       "       [ 42,  54, 140, 145,  25,  39, 112, 128,  89, 122, 125,  30,  56,\n",
       "        119, 136,  66, 146,  13, 141,  61],\n",
       "       [ 66, 141, 146, 145,  42,  54, 119,  56, 125, 112, 122,  13, 140,\n",
       "        128,  89,  39,  30,  61,  25, 136],\n",
       "       [122, 119, 141,  42, 146,  89,  25,  54,  13,  56, 128, 125, 140,\n",
       "        112, 136,  30,  39,  66, 145,  61],\n",
       "       [214,  64, 133,  17,  87, 142, 172,  68, 231, 174, 100,   4, 102,\n",
       "        117,  18, 252, 123, 201, 139, 113],\n",
       "       [ 66,  42,  56,  89, 145, 112, 122,  61, 125,  39, 119,  30,  54,\n",
       "        128, 141, 140, 136,  25,  13, 146],\n",
       "       [122,  61,  42,  56,  66,  30,  25,  39, 112, 141, 128,  13,  89,\n",
       "         54, 140, 145, 136, 119, 125, 146],\n",
       "       [146,  42,  66, 119,  56, 112, 122,  39, 136,  89,  61, 128, 140,\n",
       "         25, 141,  13, 125,  54, 145,  30]], dtype=int64)"
      ]
     },
     "execution_count": 17,
     "metadata": {},
     "output_type": "execute_result"
    }
   ],
   "source": [
    "predictions"
   ]
  },
  {
   "cell_type": "code",
   "execution_count": 18,
   "metadata": {},
   "outputs": [
    {
     "data": {
      "text/plain": [
       "['Comedy']"
      ]
     },
     "execution_count": 18,
     "metadata": {},
     "output_type": "execute_result"
    }
   ],
   "source": [
    "extract_movie_genres(119)[0]"
   ]
  },
  {
   "cell_type": "code",
   "execution_count": null,
   "metadata": {},
   "outputs": [],
   "source": []
  }
 ],
 "metadata": {
  "kernelspec": {
   "display_name": "CDT_acciddents",
   "language": "python",
   "name": "python3"
  },
  "language_info": {
   "codemirror_mode": {
    "name": "ipython",
    "version": 3
   },
   "file_extension": ".py",
   "mimetype": "text/x-python",
   "name": "python",
   "nbconvert_exporter": "python",
   "pygments_lexer": "ipython3",
   "version": "3.10.13"
  }
 },
 "nbformat": 4,
 "nbformat_minor": 2
}
