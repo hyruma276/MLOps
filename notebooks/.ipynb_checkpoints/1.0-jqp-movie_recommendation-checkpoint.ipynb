{
 "cells": [
  {
   "cell_type": "code",
   "execution_count": 11,
   "id": "18e30203-9eef-4a65-b3cd-23903a7b5519",
   "metadata": {},
   "outputs": [],
   "source": [
    "import pandas as pd\n",
    "import numpy as np\n",
    "import matplotlib.pyplot as plt\n",
    "import seaborn as sns\n",
    "import os\n",
    "\n",
    "# Pour le calcul de similarité\n",
    "from sklearn.metrics.pairwise import cosine_similarity\n",
    "\n",
    "# Pour la modélisation supervisée\n",
    "from sklearn.model_selection import train_test_split, GridSearchCV\n",
    "from sklearn.linear_model import LogisticRegression\n",
    "from sklearn.metrics import accuracy_score, recall_score, f1_score, classification_report\n",
    "\n"
   ]
  },
  {
   "cell_type": "code",
   "execution_count": 15,
   "id": "a68e6911-6dd8-415d-84a0-962b1cba7636",
   "metadata": {},
   "outputs": [
    {
     "ename": "NameError",
     "evalue": "name '__file__' is not defined",
     "output_type": "error",
     "traceback": [
      "\u001b[1;31m---------------------------------------------------------------------------\u001b[0m",
      "\u001b[1;31mNameError\u001b[0m                                 Traceback (most recent call last)",
      "Cell \u001b[1;32mIn[15], line 1\u001b[0m\n\u001b[1;32m----> 1\u001b[0m script_dir \u001b[38;5;241m=\u001b[39m os\u001b[38;5;241m.\u001b[39mpath\u001b[38;5;241m.\u001b[39mdirname(os\u001b[38;5;241m.\u001b[39mpath\u001b[38;5;241m.\u001b[39mabspath(\u001b[38;5;18;43m__file__\u001b[39;49m))  \u001b[38;5;66;03m# Récupère le dossier du script\u001b[39;00m\n\u001b[0;32m      2\u001b[0m os\u001b[38;5;241m.\u001b[39mchdir(script_dir)  \u001b[38;5;66;03m# Change le répertoire de travail\u001b[39;00m\n\u001b[0;32m      4\u001b[0m \u001b[38;5;28mprint\u001b[39m(\u001b[38;5;124mf\u001b[39m\u001b[38;5;124m\"\u001b[39m\u001b[38;5;124mRépertoire de travail défini sur : \u001b[39m\u001b[38;5;132;01m{\u001b[39;00mos\u001b[38;5;241m.\u001b[39mgetcwd()\u001b[38;5;132;01m}\u001b[39;00m\u001b[38;5;124m\"\u001b[39m)\n",
      "\u001b[1;31mNameError\u001b[0m: name '__file__' is not defined"
     ]
    }
   ],
   "source": [
    "# Définition des chemins de fichiers\n",
    "movies_path = \"C:/Users/Victor/Documents/A_Projet_MLOP/Template_MLOps_movie_recommandation-master/data/processed/movie_matrix.csv\"\n",
    "users_path = \"C:/Users/Victor/Documents/A_Projet_MLOP/Template_MLOps_movie_recommandation-master/data/processed/user_matrix.csv\"\n",
    "\n",
    "# Vérification et chargement des fichiers\n",
    "if os.path.exists(movies_path) and os.path.exists(users_path):\n",
    "    movies_df = pd.read_csv(movies_path)\n",
    "    users_df = pd.read_csv(users_path)\n",
    "    \n",
    "    # Affichage d'un aperçu\n",
    "    print(\"Movies Matrix:\")\n",
    "    print(movies_df.head())\n",
    "    print(\"\\nUser Matrix:\")\n",
    "    print(users_df.head())\n",
    "else:\n",
    "    print(\"❌ Erreur : Un ou plusieurs fichiers sont introuvables.\")\n",
    "    if not os.path.exists(movies_path):\n",
    "        print(f\"Fichier manquant : {movies_path}\")\n",
    "    if not os.path.exists(users_path):\n",
    "        print(f\"Fichier manquant : {users_path}\")\n",
    "\n"
   ]
  },
  {
   "cell_type": "code",
   "execution_count": null,
   "id": "661a363c-1a94-43af-ad7a-866e0927a039",
   "metadata": {},
   "outputs": [],
   "source": []
  },
  {
   "cell_type": "code",
   "execution_count": null,
   "id": "648a457f-f1f2-4cd0-85c4-f08eb2b2ecbd",
   "metadata": {},
   "outputs": [],
   "source": []
  }
 ],
 "metadata": {
  "kernelspec": {
   "display_name": "Python 3 (ipykernel)",
   "language": "python",
   "name": "python3"
  },
  "language_info": {
   "codemirror_mode": {
    "name": "ipython",
    "version": 3
   },
   "file_extension": ".py",
   "mimetype": "text/x-python",
   "name": "python",
   "nbconvert_exporter": "python",
   "pygments_lexer": "ipython3",
   "version": "3.10.13"
  }
 },
 "nbformat": 4,
 "nbformat_minor": 5
}
