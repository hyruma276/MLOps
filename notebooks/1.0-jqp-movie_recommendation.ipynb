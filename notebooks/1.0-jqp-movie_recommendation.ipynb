{
 "cells": [
  {
   "cell_type": "code",
   "execution_count": 11,
   "id": "18e30203-9eef-4a65-b3cd-23903a7b5519",
   "metadata": {},
   "outputs": [],
   "source": [
    "import pandas as pd\n",
    "import numpy as np\n",
    "import matplotlib.pyplot as plt\n",
    "import seaborn as sns\n",
    "import os\n",
    "\n",
    "# Pour le calcul de similarité\n",
    "from sklearn.metrics.pairwise import cosine_similarity\n",
    "\n",
    "# Pour la modélisation supervisée\n",
    "from sklearn.model_selection import train_test_split, GridSearchCV\n",
    "from sklearn.linear_model import LogisticRegression\n",
    "from sklearn.metrics import accuracy_score, recall_score, f1_score, classification_report\n",
    "\n"
   ]
  },
  {
   "cell_type": "code",
   "execution_count": 16,
   "id": "a68e6911-6dd8-415d-84a0-962b1cba7636",
   "metadata": {},
   "outputs": [
    {
     "name": "stdout",
     "output_type": "stream",
     "text": [
      "Movies Matrix:\n",
      "   movieId  (no genres listed)  Action  Adventure  Animation  Children  \\\n",
      "0        1                   0       0          1          1         1   \n",
      "1        2                   0       0          1          0         1   \n",
      "2        3                   0       0          0          0         0   \n",
      "3        4                   0       0          0          0         0   \n",
      "4        5                   0       0          0          0         0   \n",
      "\n",
      "   Comedy  Crime  Documentary  Drama  ...  Film-Noir  Horror  IMAX  Musical  \\\n",
      "0       1      0            0      0  ...          0       0     0        0   \n",
      "1       0      0            0      0  ...          0       0     0        0   \n",
      "2       1      0            0      0  ...          0       0     0        0   \n",
      "3       1      0            0      1  ...          0       0     0        0   \n",
      "4       1      0            0      0  ...          0       0     0        0   \n",
      "\n",
      "   Mystery  Romance  Sci-Fi  Thriller  War  Western  \n",
      "0        0        0       0         0    0        0  \n",
      "1        0        0       0         0    0        0  \n",
      "2        0        1       0         0    0        0  \n",
      "3        0        1       0         0    0        0  \n",
      "4        0        0       0         0    0        0  \n",
      "\n",
      "[5 rows x 21 columns]\n",
      "\n",
      "User Matrix:\n",
      "   userId  (no genres listed)    Action  Adventure  Animation  Children  \\\n",
      "0       1                 0.0  0.129412   0.123529   0.029412  0.082353   \n",
      "1       2                 0.0  0.083333   0.100000   0.033333  0.066667   \n",
      "2       3                 0.0  0.127072   0.088398   0.022099  0.055249   \n",
      "3       4                 0.0  0.178571   0.142857   0.071429  0.071429   \n",
      "4       5                 0.0  0.142857   0.095238   0.079365  0.126984   \n",
      "\n",
      "     Comedy     Crime  Documentary     Drama  ...  Film-Noir    Horror  \\\n",
      "0  0.352941  0.141176     0.029412  0.505882  ...   0.017647  0.076471   \n",
      "1  0.383333  0.033333     0.033333  0.483333  ...   0.016667  0.116667   \n",
      "2  0.298343  0.071823     0.027624  0.475138  ...   0.027624  0.116022   \n",
      "3  0.357143  0.035714     0.035714  0.571429  ...   0.000000  0.035714   \n",
      "4  0.380952  0.015873     0.063492  0.555556  ...   0.000000  0.047619   \n",
      "\n",
      "       IMAX   Musical   Mystery   Romance    Sci-Fi  Thriller       War  \\\n",
      "0  0.005882  0.041176  0.047059  0.205882  0.076471  0.182353  0.041176   \n",
      "1  0.000000  0.066667  0.050000  0.233333  0.083333  0.233333  0.050000   \n",
      "2  0.000000  0.038674  0.044199  0.132597  0.116022  0.176796  0.049724   \n",
      "3  0.035714  0.107143  0.071429  0.107143  0.000000  0.178571  0.035714   \n",
      "4  0.015873  0.079365  0.063492  0.142857  0.031746  0.238095  0.031746   \n",
      "\n",
      "    Western  \n",
      "0  0.023529  \n",
      "1  0.016667  \n",
      "2  0.011050  \n",
      "3  0.107143  \n",
      "4  0.015873  \n",
      "\n",
      "[5 rows x 21 columns]\n"
     ]
    }
   ],
   "source": [
    "# Définition des chemins de fichiers\n",
    "movies_path = \"C:/Users/Victor/Documents/A_Projet_MLOP/Template_MLOps_movie_recommandation-master/data/processed/movie_matrix.csv\"\n",
    "users_path = \"C:/Users/Victor/Documents/A_Projet_MLOP/Template_MLOps_movie_recommandation-master/data/processed/user_matrix.csv\"\n",
    "\n",
    "# Vérification et chargement des fichiers\n",
    "if os.path.exists(movies_path) and os.path.exists(users_path):\n",
    "    movies_df = pd.read_csv(movies_path)\n",
    "    users_df = pd.read_csv(users_path)\n",
    "    \n",
    "    # Affichage d'un aperçu\n",
    "    print(\"Movies Matrix:\")\n",
    "    print(movies_df.head())\n",
    "    print(\"\\nUser Matrix:\")\n",
    "    print(users_df.head())\n",
    "else:\n",
    "    print(\"❌ Erreur : Un ou plusieurs fichiers sont introuvables.\")\n",
    "    if not os.path.exists(movies_path):\n",
    "        print(f\"Fichier manquant : {movies_path}\")\n",
    "    if not os.path.exists(users_path):\n",
    "        print(f\"Fichier manquant : {users_path}\")\n",
    "\n"
   ]
  },
  {
   "cell_type": "code",
   "execution_count": 17,
   "id": "661a363c-1a94-43af-ad7a-866e0927a039",
   "metadata": {},
   "outputs": [
    {
     "name": "stdout",
     "output_type": "stream",
     "text": [
      "Valeurs manquantes dans movies_df : 0\n",
      "Valeurs manquantes dans users_df : 0\n",
      "Doublons dans movies_df : 0\n",
      "Doublons dans users_df : 0\n"
     ]
    }
   ],
   "source": [
    "# Vérifier les valeurs manquantes\n",
    "print(\"Valeurs manquantes dans movies_df :\", movies_df.isnull().sum().sum())\n",
    "print(\"Valeurs manquantes dans users_df :\", users_df.isnull().sum().sum())\n",
    "\n",
    "# Supprimer la colonne '(no genres listed)' si elle existe\n",
    "if '(no genres listed)' in movies_df.columns:\n",
    "    movies_df.drop(columns=['(no genres listed)'], inplace=True)\n",
    "if '(no genres listed)' in users_df.columns:\n",
    "    users_df.drop(columns=['(no genres listed)'], inplace=True)\n",
    "\n",
    "# Afficher les doublons éventuels\n",
    "print(\"Doublons dans movies_df :\", movies_df.duplicated().sum())\n",
    "print(\"Doublons dans users_df :\", users_df.duplicated().sum())\n"
   ]
  },
  {
   "cell_type": "code",
   "execution_count": 18,
   "id": "648a457f-f1f2-4cd0-85c4-f08eb2b2ecbd",
   "metadata": {},
   "outputs": [
    {
     "name": "stdout",
     "output_type": "stream",
     "text": [
      "   movieId  similarity\n",
      "0        1    0.384306\n",
      "1        2    0.194745\n",
      "2        3    0.539494\n",
      "3        4    0.839259\n",
      "4        5    0.481869\n"
     ]
    }
   ],
   "source": [
    "# Extraire le vecteur de l'utilisateur 1 (en excluant la colonne userId)\n",
    "user_id = 1\n",
    "user_vector = users_df[users_df['userId'] == user_id].iloc[:, 1:].values.flatten()\n",
    "\n",
    "# Extraire la matrice des films (en excluant la colonne movieId)\n",
    "movie_features = movies_df.iloc[:, 1:].values\n",
    "\n",
    "# Calcul de la similarité cosine entre l'utilisateur et chaque film\n",
    "similarities = cosine_similarity(movie_features, user_vector.reshape(1, -1)).flatten()\n",
    "\n",
    "# Ajouter la similarité au dataframe des films\n",
    "movies_df['similarity'] = similarities\n",
    "\n",
    "# Afficher les similarités calculées pour vérification\n",
    "print(movies_df[['movieId', 'similarity']].head())\n"
   ]
  },
  {
   "cell_type": "code",
   "execution_count": 19,
   "id": "b3609074-ae64-46fc-8a3b-6f2cfa35cb9b",
   "metadata": {},
   "outputs": [
    {
     "name": "stdout",
     "output_type": "stream",
     "text": [
      "Seuil utilisé : 0.5281363636181959\n",
      "label\n",
      "1    13674\n",
      "0    13604\n",
      "Name: count, dtype: int64\n"
     ]
    }
   ],
   "source": [
    "# Définir un seuil (par exemple, la médiane)\n",
    "threshold = np.median(similarities)\n",
    "print(\"Seuil utilisé :\", threshold)\n",
    "\n",
    "# Créer le label : 1 si similarity >= seuil, sinon 0\n",
    "movies_df['label'] = (movies_df['similarity'] >= threshold).astype(int)\n",
    "\n",
    "# Vérifier la répartition des labels\n",
    "print(movies_df['label'].value_counts())\n"
   ]
  },
  {
   "cell_type": "code",
   "execution_count": 20,
   "id": "616e4212-44fa-427c-a725-25b35954cb3d",
   "metadata": {},
   "outputs": [
    {
     "name": "stdout",
     "output_type": "stream",
     "text": [
      "Dimensions de X : (27278, 19)\n",
      "Dimensions de y : (27278,)\n"
     ]
    }
   ],
   "source": [
    "# On sélectionne les features (colonnes de genres) et la cible\n",
    "# On suppose que la première colonne est 'movieId', ensuite les genres se trouvent jusqu'à la colonne 'similarity'\n",
    "features = movies_df.columns[1:-2]  # Excluant 'movieId', 'similarity' et 'label'\n",
    "X = movies_df[features]\n",
    "y = movies_df['label']\n",
    "\n",
    "print(\"Dimensions de X :\", X.shape)\n",
    "print(\"Dimensions de y :\", y.shape)\n"
   ]
  },
  {
   "cell_type": "code",
   "execution_count": 21,
   "id": "cc2d0e04-70c4-4150-89ba-21437a965d6b",
   "metadata": {},
   "outputs": [
    {
     "name": "stdout",
     "output_type": "stream",
     "text": [
      "Entraînement : (21822, 19) Test : (5456, 19)\n"
     ]
    }
   ],
   "source": [
    "X_train, X_test, y_train, y_test = train_test_split(X, y, test_size=0.2, random_state=42, stratify=y)\n",
    "print(\"Entraînement :\", X_train.shape, \"Test :\", X_test.shape)"
   ]
  },
  {
   "cell_type": "code",
   "execution_count": 22,
   "id": "79549ad5-3c60-4da1-bef3-77db189fa6d1",
   "metadata": {},
   "outputs": [],
   "source": [
    "# Instanciation du modèle de régression logistique\n",
    "clf = LogisticRegression(max_iter=1000, random_state=42)\n",
    "\n",
    "# Entraînement du modèle\n",
    "clf.fit(X_train, y_train)\n",
    "\n",
    "# Prédictions sur l'ensemble de test\n",
    "y_pred = clf.predict(X_test)\n"
   ]
  },
  {
   "cell_type": "code",
   "execution_count": 23,
   "id": "9b0afbd6-851a-43d6-9b41-a87bb02b045c",
   "metadata": {},
   "outputs": [
    {
     "name": "stdout",
     "output_type": "stream",
     "text": [
      "Accuracy : 0.9961510263929618\n",
      "Recall : 0.9970749542961609\n",
      "F1-score : 0.9961643835616438\n",
      "\n",
      "Classification Report :\n",
      "               precision    recall  f1-score   support\n",
      "\n",
      "           0       1.00      1.00      1.00      2721\n",
      "           1       1.00      1.00      1.00      2735\n",
      "\n",
      "    accuracy                           1.00      5456\n",
      "   macro avg       1.00      1.00      1.00      5456\n",
      "weighted avg       1.00      1.00      1.00      5456\n",
      "\n"
     ]
    }
   ],
   "source": [
    "# Calcul et affichage des métriques\n",
    "accuracy = accuracy_score(y_test, y_pred)\n",
    "recall = recall_score(y_test, y_pred)\n",
    "f1 = f1_score(y_test, y_pred)\n",
    "\n",
    "print(\"Accuracy :\", accuracy)\n",
    "print(\"Recall :\", recall)\n",
    "print(\"F1-score :\", f1)\n",
    "\n",
    "# Rapport détaillé\n",
    "print(\"\\nClassification Report :\\n\", classification_report(y_test, y_pred))\n"
   ]
  },
  {
   "cell_type": "code",
   "execution_count": 24,
   "id": "9b037ebc-4126-4d9e-ba40-e13d57c7e548",
   "metadata": {},
   "outputs": [
    {
     "name": "stdout",
     "output_type": "stream",
     "text": [
      "Meilleur paramètre : {'C': 100}\n",
      "Meilleur F1-score en validation : 0.9987199578409799\n",
      "\n",
      "Après tuning - Classification Report :\n",
      "               precision    recall  f1-score   support\n",
      "\n",
      "           0       1.00      1.00      1.00      2721\n",
      "           1       1.00      1.00      1.00      2735\n",
      "\n",
      "    accuracy                           1.00      5456\n",
      "   macro avg       1.00      1.00      1.00      5456\n",
      "weighted avg       1.00      1.00      1.00      5456\n",
      "\n"
     ]
    }
   ],
   "source": [
    "param_grid = {\n",
    "    'C': [0.01, 0.1, 1, 10, 100]\n",
    "}\n",
    "\n",
    "grid_search = GridSearchCV(LogisticRegression(max_iter=1000, random_state=42), param_grid, cv=5, scoring='f1', n_jobs=-1)\n",
    "grid_search.fit(X_train, y_train)\n",
    "\n",
    "print(\"Meilleur paramètre :\", grid_search.best_params_)\n",
    "print(\"Meilleur F1-score en validation :\", grid_search.best_score_)\n",
    "\n",
    "# Évaluation sur le test avec le meilleur modèle\n",
    "best_clf = grid_search.best_estimator_\n",
    "y_pred_best = best_clf.predict(X_test)\n",
    "print(\"\\nAprès tuning - Classification Report :\\n\", classification_report(y_test, y_pred_best))\n"
   ]
  },
  {
   "cell_type": "code",
   "execution_count": null,
   "id": "1fd25c8e-eb4b-472d-a5c8-eeef8e90fa58",
   "metadata": {},
   "outputs": [],
   "source": []
  },
  {
   "cell_type": "code",
   "execution_count": null,
   "id": "c447c255-c0e7-4cc4-b77e-4052b3e003e3",
   "metadata": {},
   "outputs": [],
   "source": []
  },
  {
   "cell_type": "code",
   "execution_count": null,
   "id": "ca07f365-6951-4ee2-9db6-7157676cd726",
   "metadata": {},
   "outputs": [],
   "source": []
  }
 ],
 "metadata": {
  "kernelspec": {
   "display_name": "Python 3 (ipykernel)",
   "language": "python",
   "name": "python3"
  },
  "language_info": {
   "codemirror_mode": {
    "name": "ipython",
    "version": 3
   },
   "file_extension": ".py",
   "mimetype": "text/x-python",
   "name": "python",
   "nbconvert_exporter": "python",
   "pygments_lexer": "ipython3",
   "version": "3.10.13"
  }
 },
 "nbformat": 4,
 "nbformat_minor": 5
}
